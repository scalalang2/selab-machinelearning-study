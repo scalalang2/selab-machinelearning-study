{
 "cells": [
  {
   "cell_type": "code",
   "execution_count": 3,
   "metadata": {},
   "outputs": [],
   "source": [
    "import torch # PyTorch Library\n",
    "import numpy # NumPy\n",
    "from sklearn.datasets import make_blobs # 사이킷런 라이브러리 / 데이터 생성용\n",
    "import matplotlib.pyplot as plt # 데이터 시각화 용도 라이브러리\n",
    "import torch.nn.functional as F"
   ]
  },
  {
   "cell_type": "code",
   "execution_count": 42,
   "metadata": {},
   "outputs": [],
   "source": [
    "n_dim = 2\n",
    "x_train, y_train = make_blobs(n_samples = 80,\n",
    "                             n_features = 2,\n",
    "                             centers=[[1,1], [-1,-1], [1, -1], [-1, 1]],\n",
    "                             shuffle=True,\n",
    "                             cluster_std=0.3)\n",
    "x_test, y_test = make_blobs(n_samples = 20,\n",
    "                             n_features = 2,\n",
    "                             centers=[[1,1], [-1,-1], [1, -1], [-1, 1]],\n",
    "                             shuffle=True,\n",
    "                             cluster_std=0.3)"
   ]
  },
  {
   "cell_type": "code",
   "execution_count": 43,
   "metadata": {},
   "outputs": [
    {
     "data": {
      "text/plain": [
       "array([0, 1, 0, 0, 0, 1, 0, 1, 0, 1, 1, 0, 0, 1, 1, 0, 0, 1, 0, 0, 1, 1,\n",
       "       0, 1, 1, 0, 0, 0, 1, 1, 1, 1, 1, 0, 1, 0, 0, 0, 0, 1, 0, 1, 0, 1,\n",
       "       1, 1, 0, 1, 1, 0, 0, 1, 0, 0, 1, 0, 0, 0, 0, 1, 1, 0, 0, 1, 1, 0,\n",
       "       1, 1, 0, 1, 0, 1, 1, 1, 1, 0, 0, 0, 1, 1])"
      ]
     },
     "execution_count": 43,
     "metadata": {},
     "output_type": "execute_result"
    }
   ],
   "source": [
    "# XOR 문제로 치환하기 위해 (1,1), (-1,-1) => 0, (1,-1), (-1,1) => 1로 레이블을 바꾼다.\n",
    "def label_map(y_, from_, to_):\n",
    "    y = numpy.copy(y_)\n",
    "    for f in from_:\n",
    "        y[y_ == f] = to_\n",
    "    return y\n",
    "\n",
    "y_train = label_map(y_train, [0,1], 0)\n",
    "y_train = label_map(y_train, [2,3], 1)\n",
    "y_test = label_map(y_test, [0,1], 0)\n",
    "y_test = label_map(y_test, [2,3], 1)"
   ]
  },
  {
   "cell_type": "code",
   "execution_count": 45,
   "metadata": {},
   "outputs": [
    {
     "data": {
      "image/png": "[encoded data removed]",
      "text/plain": [
       "<Figure size 432x288 with 1 Axes>"
      ]
     },
     "metadata": {
      "needs_background": "light"
     },
     "output_type": "display_data"
    }
   ],
   "source": [
    "# 데이터 시각화 함수\n",
    "def vis_data(x, y = None, c='r'):\n",
    "    for x_, y_ in zip(x,y):\n",
    "        plt.plot(x_[0], x_[1], c+'o' if y_ == 0 else c+'+')\n",
    "        \n",
    "plt.figure()\n",
    "vis_data(x_train, y_train)\n",
    "plt.show()"
   ]
  },
  {
   "cell_type": "code",
   "execution_count": 50,
   "metadata": {},
   "outputs": [
    {
     "data": {
      "text/plain": [
       "tensor([0., 1., 0., 0., 0., 1., 0., 1., 0., 1., 1., 0., 0., 1., 1., 0., 0., 1.,\n",
       "        0., 0., 1., 1., 0., 1., 1., 0., 0., 0., 1., 1., 1., 1., 1., 0., 1., 0.,\n",
       "        0., 0., 0., 1., 0., 1., 0., 1., 1., 1., 0., 1., 1., 0., 0., 1., 0., 0.,\n",
       "        1., 0., 0., 0., 0., 1., 1., 0., 0., 1., 1., 0., 1., 1., 0., 1., 0., 1.,\n",
       "        1., 1., 1., 0., 0., 0., 1., 1.])"
      ]
     },
     "execution_count": 50,
     "metadata": {},
     "output_type": "execute_result"
    }
   ],
   "source": [
    "# Numpy 배열을 pytorch의 Tensor로 변환한다.\n",
    "x_train = torch.FloatTensor(x_train)\n",
    "x_test = torch.FloatTensor(x_test)\n",
    "y_train = torch.FloatTensor(y_train)\n",
    "y_test = torch.FloatTensor(y_test)\n",
    "\n",
    "y_train"
   ]
  },
  {
   "cell_type": "code",
   "execution_count": 63,
   "metadata": {},
   "outputs": [
    {
     "name": "stdout",
     "output_type": "stream",
     "text": [
      "---- net의 모델 모형을 출력한다.\n",
      "Net(\n",
      "  (fc1): Linear(in_features=2, out_features=5, bias=True)\n",
      "  (relu): ReLU()\n",
      "  (fc2): Linear(in_features=5, out_features=1, bias=True)\n",
      "  (sigmoid): Sigmoid()\n",
      ")\n",
      "----\n",
      "fc1: tensor([[ 0.6926,  0.1023, -0.0940,  0.8105,  0.4915],\n",
      "        [ 0.8480, -0.0397, -0.1183,  0.8643,  0.4215],\n",
      "        [-0.4636,  1.0518, -0.0065,  0.3952,  0.9094],\n",
      "        [-0.8364, -0.0581, -1.2075,  0.0590, -0.3144],\n",
      "        [-0.1433, -0.9971, -1.5811,  0.2550, -0.9198],\n",
      "        [ 0.7930,  0.2056,  0.0596,  0.8731,  0.6334],\n",
      "        [-0.6882, -0.2136, -1.2482,  0.1073, -0.4005],\n",
      "        [ 0.3003, -0.8653, -1.1841,  0.4852, -0.6042],\n",
      "        [ 1.0841, -0.1510, -0.0646,  0.9608,  0.4153],\n",
      "        [ 0.8343,  0.2381,  0.1141,  0.8974,  0.6821],\n",
      "        [-0.3564,  0.7851, -0.1697,  0.4082,  0.6993],\n",
      "        [-0.3211,  0.9501, -0.0040,  0.4486,  0.8727],\n",
      "        [ 0.0338, -1.0086, -1.4782,  0.3378, -0.8553],\n",
      "        [-0.0524,  1.4416,  0.5939,  0.6469,  1.4588],\n",
      "        [ 0.0369, -0.8406, -1.3304,  0.3633, -0.6928],\n",
      "        [-1.1838,  0.0845, -1.3051, -0.0862, -0.3257],\n",
      "        [-0.8787, -0.2256, -1.3800,  0.0148, -0.4932],\n",
      "        [-1.2141,  0.0398, -1.3632, -0.1070, -0.3815],\n",
      "        [-0.1659,  1.5646,  0.6284,  0.6104,  1.5284],\n",
      "        [ 0.1746, -1.0294, -1.4066,  0.4019, -0.8153]],\n",
      "       grad_fn=<AddmmBackward>)\n",
      "relu: tensor([[0.6926, 0.1023, 0.0000, 0.8105, 0.4915],\n",
      "        [0.8480, 0.0000, 0.0000, 0.8643, 0.4215],\n",
      "        [0.0000, 1.0518, 0.0000, 0.3952, 0.9094],\n",
      "        [0.0000, 0.0000, 0.0000, 0.0590, 0.0000],\n",
      "        [0.0000, 0.0000, 0.0000, 0.2550, 0.0000],\n",
      "        [0.7930, 0.2056, 0.0596, 0.8731, 0.6334],\n",
      "        [0.0000, 0.0000, 0.0000, 0.1073, 0.0000],\n",
      "        [0.3003, 0.0000, 0.0000, 0.4852, 0.0000],\n",
      "        [1.0841, 0.0000, 0.0000, 0.9608, 0.4153],\n",
      "        [0.8343, 0.2381, 0.1141, 0.8974, 0.6821],\n",
      "        [0.0000, 0.7851, 0.0000, 0.4082, 0.6993],\n",
      "        [0.0000, 0.9501, 0.0000, 0.4486, 0.8727],\n",
      "        [0.0338, 0.0000, 0.0000, 0.3378, 0.0000],\n",
      "        [0.0000, 1.4416, 0.5939, 0.6469, 1.4588],\n",
      "        [0.0369, 0.0000, 0.0000, 0.3633, 0.0000],\n",
      "        [0.0000, 0.0845, 0.0000, 0.0000, 0.0000],\n",
      "        [0.0000, 0.0000, 0.0000, 0.0148, 0.0000],\n",
      "        [0.0000, 0.0398, 0.0000, 0.0000, 0.0000],\n",
      "        [0.0000, 1.5646, 0.6284, 0.6104, 1.5284],\n",
      "        [0.1746, 0.0000, 0.0000, 0.4019, 0.0000]], grad_fn=<ReluBackward0>)\n",
      "fc2: tensor([[-0.1446],\n",
      "        [-0.0674],\n",
      "        [-0.7535],\n",
      "        [-0.2135],\n",
      "        [-0.1772],\n",
      "        [-0.2110],\n",
      "        [-0.2045],\n",
      "        [-0.1123],\n",
      "        [-0.0311],\n",
      "        [-0.2417],\n",
      "        [-0.6016],\n",
      "        [-0.6934],\n",
      "        [-0.1593],\n",
      "        [-1.1431],\n",
      "        [-0.1544],\n",
      "        [-0.2613],\n",
      "        [-0.2216],\n",
      "        [-0.2418],\n",
      "        [-1.2250],\n",
      "        [-0.1370]], grad_fn=<AddmmBackward>)\n",
      "sigmoid: tensor([[0.4639],\n",
      "        [0.4831],\n",
      "        [0.3201],\n",
      "        [0.4468],\n",
      "        [0.4558],\n",
      "        [0.4474],\n",
      "        [0.4491],\n",
      "        [0.4720],\n",
      "        [0.4922],\n",
      "        [0.4399],\n",
      "        [0.3540],\n",
      "        [0.3333],\n",
      "        [0.4602],\n",
      "        [0.2418],\n",
      "        [0.4615],\n",
      "        [0.4350],\n",
      "        [0.4448],\n",
      "        [0.4399],\n",
      "        [0.2271],\n",
      "        [0.4658]], grad_fn=<SigmoidBackward>)\n"
     ]
    },
    {
     "data": {
      "text/plain": [
       "tensor([[0.4639],\n",
       "        [0.4831],\n",
       "        [0.3201],\n",
       "        [0.4468],\n",
       "        [0.4558],\n",
       "        [0.4474],\n",
       "        [0.4491],\n",
       "        [0.4720],\n",
       "        [0.4922],\n",
       "        [0.4399],\n",
       "        [0.3540],\n",
       "        [0.3333],\n",
       "        [0.4602],\n",
       "        [0.2418],\n",
       "        [0.4615],\n",
       "        [0.4350],\n",
       "        [0.4448],\n",
       "        [0.4399],\n",
       "        [0.2271],\n",
       "        [0.4658]], grad_fn=<SigmoidBackward>)"
      ]
     },
     "execution_count": 63,
     "metadata": {},
     "output_type": "execute_result"
    }
   ],
   "source": [
    "# Module class 상송\n",
    "class Net(torch.nn.Module):\n",
    "    def __init__(self, input_size, hidden_size):\n",
    "        super(Net, self).__init__()\n",
    "        \n",
    "        self.input_size = input_size\n",
    "        self.hidden_Size = hidden_size\n",
    "        \n",
    "        self.fc1 = torch.nn.Linear(input_size, hidden_size)\n",
    "        self.relu = torch.nn.ReLU()\n",
    "        self.fc2 = torch.nn.Linear(hidden_size, 1)\n",
    "        self.sigmoid = torch.nn.Sigmoid()\n",
    "    \n",
    "    def forward(self, x):\n",
    "        fc1 = self.fc1(x)\n",
    "        relu = self.relu(fc1)\n",
    "        fc2 = self.fc2(relu)\n",
    "        output = self.sigmoid(fc2)\n",
    "        return output\n",
    "    \n",
    "    def _debug(self, x):\n",
    "        fc1 = self.fc1(x)\n",
    "        print(\"fc1:\", fc1)\n",
    "        \n",
    "        relu = self.relu(fc1)\n",
    "        print(\"relu:\", relu)\n",
    "        \n",
    "        fc2 = self.fc2(relu)\n",
    "        print(\"fc2:\", fc2)\n",
    "        \n",
    "        output = self.sigmoid(fc2)\n",
    "        print(\"sigmoid:\", output)\n",
    "        return output\n",
    "    \n",
    "net = Net(2, 5)\n",
    "print(\"---- net의 모델 모형을 출력한다.\")\n",
    "print(net)\n",
    "print(\"----\")\n",
    "net._debug(x_test)"
   ]
  },
  {
   "cell_type": "code",
   "execution_count": 77,
   "metadata": {},
   "outputs": [],
   "source": [
    "# Model 생성\n",
    "model = Net(2,5)\n",
    "\n",
    "# 학습율\n",
    "lr = 0.03\n",
    "\n",
    "# Binary Cross Entropy\n",
    "criterion = torch.nn.BCELoss()\n",
    "\n",
    "# Epochs\n",
    "epochs = 2000\n",
    "\n",
    "# Stochastic Gradient Descent\n",
    "optimizer = torch.optim.SGD(model.parameters(), lr=lr)"
   ]
  },
  {
   "cell_type": "code",
   "execution_count": 82,
   "metadata": {},
   "outputs": [
    {
     "name": "stdout",
     "output_type": "stream",
     "text": [
      "test_loss before training 0.7115614414215088\n"
     ]
    }
   ],
   "source": [
    "# 모델을 학습하기 전 loss를 출력한다.\n",
    "# tensor.item() : 텐서의 값을 스칼라 값으로 출력한다. 여러 차원의 데이터인 경우엔 에러가 나온다.\n",
    "# 즉, 텐서의 차원이 1x1인 경우에만 사용할 수 있음\n",
    "model.eval()\n",
    "test_loss_before = criterion(model(x_test).view(-1), y_test)\n",
    "print(\"test_loss before training\", test_loss_before.item())"
   ]
  },
  {
   "cell_type": "code",
   "execution_count": 90,
   "metadata": {},
   "outputs": [
    {
     "name": "stdout",
     "output_type": "stream",
     "text": [
      "epoch at: 0, train loss: 0.005957100074738264\n",
      "epoch at: 100, train loss: 0.00581338070333004\n",
      "epoch at: 200, train loss: 0.005675789900124073\n",
      "epoch at: 300, train loss: 0.005543788429349661\n",
      "epoch at: 400, train loss: 0.005417115055024624\n",
      "epoch at: 500, train loss: 0.005295421462506056\n",
      "epoch at: 600, train loss: 0.005178480409085751\n",
      "epoch at: 700, train loss: 0.005065985955297947\n",
      "epoch at: 800, train loss: 0.004957740195095539\n",
      "epoch at: 900, train loss: 0.004853499121963978\n",
      "epoch at: 1000, train loss: 0.004753074608743191\n",
      "epoch at: 1100, train loss: 0.004656275734305382\n",
      "epoch at: 1200, train loss: 0.004562884569168091\n",
      "epoch at: 1300, train loss: 0.004472752101719379\n",
      "epoch at: 1400, train loss: 0.0043857344426214695\n",
      "epoch at: 1500, train loss: 0.004301665350794792\n",
      "epoch at: 1600, train loss: 0.004220394883304834\n",
      "epoch at: 1700, train loss: 0.004141796380281448\n",
      "epoch at: 1800, train loss: 0.0040657734498381615\n",
      "epoch at: 1900, train loss: 0.0039921910502016544\n"
     ]
    }
   ],
   "source": [
    "for epoch in range(epochs):\n",
    "    model.train()\n",
    "    optimizer.zero_grad()\n",
    "    \n",
    "    output = model(x_train)\n",
    "    loss = criterion(output.view(-1), y_train)\n",
    "    loss.backward()\n",
    "    optimizer.step()\n",
    "    \n",
    "    if epoch % 100 == 0 :\n",
    "        print(\"epoch at: {}, train loss: {}\".format(epoch, loss.item()))"
   ]
  },
  {
   "cell_type": "code",
   "execution_count": 93,
   "metadata": {},
   "outputs": [
    {
     "name": "stdout",
     "output_type": "stream",
     "text": [
      "test_loss after training 0.003266087966039777\n"
     ]
    }
   ],
   "source": [
    "# 학습 후의 가중치를 출력한다.\n",
    "test_loss_before = criterion(model(x_test).view(-1), y_test)\n",
    "print(\"test_loss after training\", test_loss_before.item())"
   ]
  },
  {
   "cell_type": "code",
   "execution_count": 95,
   "metadata": {},
   "outputs": [
    {
     "name": "stdout",
     "output_type": "stream",
     "text": [
      "state_dict: OrderedDict([('fc1.weight', tensor([[-1.7294,  2.1685],\n",
      "        [-2.3416, -1.1150],\n",
      "        [ 1.6662, -0.9213],\n",
      "        [ 1.2619,  1.3879],\n",
      "        [ 1.7680,  1.8662]])), ('fc1.bias', tensor([-0.1526, -0.0158,  0.7883, -0.0984, -0.2078])), ('fc2.weight', tensor([[ 2.6387, -2.5046,  2.0151, -1.6347, -2.4659]])), ('fc2.bias', tensor([1.1443]))])\n"
     ]
    }
   ],
   "source": [
    "# 학습 결과를 파일로 저장한다.\n",
    "torch.save(model.state_dict(), './simple_ann_model.pt')\n",
    "print('state_dict: {}'.format(model.state_dict()))"
   ]
  },
  {
   "cell_type": "code",
   "execution_count": 102,
   "metadata": {},
   "outputs": [
    {
     "name": "stdout",
     "output_type": "stream",
     "text": [
      "(-1,1) =  0.9996472597122192\n",
      "(1,-1) =  0.9996463060379028\n",
      "(1,1) =  0.00048533553490415215\n",
      "(0,0) =  0.0006193481967784464\n"
     ]
    }
   ],
   "source": [
    "# 저장한 학습 결과를 가져온다.\n",
    "new_model = Net(2,5)\n",
    "new_model.load_state_dict(torch.load('./simple_ann_model.pt'))\n",
    "\n",
    "print(\"(-1,1) = \", new_model(torch.Tensor([-1, 1])).item())\n",
    "print(\"(1,-1) = \", new_model(torch.Tensor([1, -1])).item())\n",
    "print(\"(1,1) = \", new_model(torch.Tensor([1, 1])).item())\n",
    "print(\"(-1,-1) = \", new_model(torch.Tensor([-1, -1])).item())"
   ]
  }
 ],
 "metadata": {
  "kernelspec": {
   "display_name": "Python 3",
   "language": "python",
   "name": "python3"
  },
  "language_info": {
   "codemirror_mode": {
    "name": "ipython",
    "version": 3
   },
   "file_extension": ".py",
   "mimetype": "text/x-python",
   "name": "python",
   "nbconvert_exporter": "python",
   "pygments_lexer": "ipython3",
   "version": "3.7.6"
  }
 },
 "nbformat": 4,
 "nbformat_minor": 2
}
