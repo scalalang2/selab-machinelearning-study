{
 "cells": [
  {
   "cell_type": "code",
   "execution_count": 11,
   "metadata": {},
   "outputs": [
    {
     "name": "stdout",
     "output_type": "stream",
     "text": [
      "tensor(3.)\n",
      "tensor(4., requires_grad=True)\n",
      "tensor(5., requires_grad=True)\n"
     ]
    }
   ],
   "source": [
    "import numpy as np\n",
    "import torch\n",
    "\n",
    "x = torch.tensor(3.)\n",
    "w = torch.tensor(4., requires_grad=True)\n",
    "b = torch.tensor(5., requires_grad=True)\n",
    "\n",
    "print(x)\n",
    "print(w)\n",
    "print(b)"
   ]
  },
  {
   "cell_type": "code",
   "execution_count": 12,
   "metadata": {},
   "outputs": [
    {
     "name": "stdout",
     "output_type": "stream",
     "text": [
      "tensor(17., grad_fn=<AddBackward0>)\n"
     ]
    }
   ],
   "source": [
    "y = w * x + b\n",
    "print(y)"
   ]
  },
  {
   "cell_type": "code",
   "execution_count": 13,
   "metadata": {},
   "outputs": [
    {
     "name": "stdout",
     "output_type": "stream",
     "text": [
      "dy/dw: tensor(3.)\n",
      "dy/db: tensor(1.)\n"
     ]
    }
   ],
   "source": [
    "## Compute Gradients\n",
    "y.backward()\n",
    "print(\"dy/dw:\", w.grad)\n",
    "print(\"dy/db:\", b.grad)"
   ]
  },
  {
   "cell_type": "code",
   "execution_count": 14,
   "metadata": {},
   "outputs": [
    {
     "name": "stdout",
     "output_type": "stream",
     "text": [
      "tensor([1, 2, 3, 4, 5])\n",
      "tensor([1, 2, 3, 4, 5])\n"
     ]
    }
   ],
   "source": [
    "import matplotlib.pyplot as plt\n",
    "\n",
    "inputs = np.array([1,2,3,4,5])\n",
    "targets = np.array([1,2,3,4,5])\n",
    "\n",
    "inputs = torch.from_numpy(inputs)\n",
    "targets = torch.from_numpy(targets)\n",
    "\n",
    "print(inputs)\n",
    "print(targets)\n",
    "\n",
    "w = torch.randn(1)\n",
    "b = torch.randn(1)"
   ]
  },
  {
   "cell_type": "code",
   "execution_count": 15,
   "metadata": {},
   "outputs": [
    {
     "data": {
      "image/png": "[encoded data removed]",
      "text/plain": [
       "<Figure size 432x288 with 1 Axes>"
      ]
     },
     "metadata": {
      "needs_background": "light"
     },
     "output_type": "display_data"
    }
   ],
   "source": [
    "h = w * inputs + b\n",
    "\n",
    "plt.scatter(inputs, targets)\n",
    "plt.plot(inputs, h)\n",
    "plt.show()"
   ]
  },
  {
   "cell_type": "code",
   "execution_count": 16,
   "metadata": {},
   "outputs": [
    {
     "data": {
      "text/plain": [
       "tensor([-0.3523], requires_grad=True)"
      ]
     },
     "execution_count": 16,
     "metadata": {},
     "output_type": "execute_result"
    }
   ],
   "source": [
    "w.requires_grad_(True)\n",
    "b.requires_grad_(True)"
   ]
  },
  {
   "cell_type": "code",
   "execution_count": 17,
   "metadata": {},
   "outputs": [
    {
     "name": "stdout",
     "output_type": "stream",
     "text": [
      "tensor([-0.6785, -1.0046, -1.3308, -1.6570, -1.9832], grad_fn=<AddBackward0>)\n",
      "tensor([1, 2, 3, 4, 5])\n",
      "tensor(22.2737, grad_fn=<DivBackward0>)\n"
     ]
    }
   ],
   "source": [
    "def model(x):\n",
    "    return x * w + b\n",
    "\n",
    "preds = model(inputs)\n",
    "print(preds)\n",
    "print(targets)\n",
    "\n",
    "def mse(t1, t2):\n",
    "    diff = t1 - t2\n",
    "    return torch.sum(diff * diff) / diff.numel()\n",
    "\n",
    "loss = mse(preds, targets)\n",
    "print(loss)"
   ]
  },
  {
   "cell_type": "markdown",
   "metadata": {},
   "source": [
    "##### Pytorch의 마법(?)\n",
    "Pytorch와 Tensorflow의 차이점은 `Eager Execution` 환경인지 아닌지에 달려있다. Tensorflow는 모든 데이터를 그래프로 만들어서 마지막에 한 번에 실행하는 코드 디자인을 가진 반면, Pytorch는 바로 연산하여 결과를 볼 수 있다. 다만, Back Propagation을 편하게 하기 위해서 모든 미분 과정은 자동으로 구해진다."
   ]
  },
  {
   "cell_type": "code",
   "execution_count": 18,
   "metadata": {},
   "outputs": [],
   "source": [
    "# train for 100 epochs\n",
    "for steps in range(2000):\n",
    "    preds = model(inputs)\n",
    "    loss = mse(preds, targets)\n",
    "    loss.backward()\n",
    "    \n",
    "    with torch.no_grad():\n",
    "        w -= w.grad * 0.01\n",
    "        b -= b.grad * 0.01\n",
    "        \n",
    "        w.grad.zero_()\n",
    "        b.grad.zero_()"
   ]
  },
  {
   "cell_type": "code",
   "execution_count": 19,
   "metadata": {},
   "outputs": [
    {
     "name": "stdout",
     "output_type": "stream",
     "text": [
      "w: tensor([1.0000], requires_grad=True) b: tensor([1.6382e-05], requires_grad=True)\n",
      "input:  tensor([1, 2, 3, 4, 5])\n",
      "prediction:  tensor([1.0000, 2.0000, 3.0000, 4.0000, 5.0000], grad_fn=<AddBackward0>)\n",
      "target:  tensor([1, 2, 3, 4, 5])\n"
     ]
    }
   ],
   "source": [
    "preds = model(inputs)\n",
    "loss = mse(preds, targets)\n",
    "\n",
    "print(\"w:\", w, \"b:\", b)\n",
    "print(\"input: \", inputs)\n",
    "print(\"prediction: \", preds)\n",
    "print(\"target: \", targets)"
   ]
  }
 ],
 "metadata": {
  "kernelspec": {
   "display_name": "Python 3",
   "language": "python",
   "name": "python3"
  },
  "language_info": {
   "codemirror_mode": {
    "name": "ipython",
    "version": 3
   },
   "file_extension": ".py",
   "mimetype": "text/x-python",
   "name": "python",
   "nbconvert_exporter": "python",
   "pygments_lexer": "ipython3",
   "version": "3.7.6"
  }
 },
 "nbformat": 4,
 "nbformat_minor": 2
}
