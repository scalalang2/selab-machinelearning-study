{
 "cells": [
  {
   "cell_type": "code",
   "execution_count": 6,
   "metadata": {},
   "outputs": [
    {
     "data": {
      "text/plain": [
       "tensor([[1.1210e-44, 0.0000e+00, 0.0000e+00],\n",
       "        [0.0000e+00, 0.0000e+00, 0.0000e+00],\n",
       "        [0.0000e+00, 0.0000e+00, 0.0000e+00],\n",
       "        [0.0000e+00, 0.0000e+00, 0.0000e+00],\n",
       "        [0.0000e+00, 0.0000e+00, 0.0000e+00]])"
      ]
     },
     "execution_count": 6,
     "metadata": {},
     "output_type": "execute_result"
    }
   ],
   "source": [
    "from __future__ import print_function\n",
    "import torch\n",
    "\n",
    "x = torch.empty(5,3) # 5x3의 빈 행렬을 생성한다.\n",
    "x"
   ]
  },
  {
   "cell_type": "code",
   "execution_count": 9,
   "metadata": {},
   "outputs": [
    {
     "data": {
      "text/plain": [
       "tensor([[0.2201, 0.2235, 0.3012],\n",
       "        [0.4927, 0.7080, 0.0595],\n",
       "        [0.7008, 0.2477, 0.0458],\n",
       "        [0.3244, 0.7439, 0.2762],\n",
       "        [0.0025, 0.9627, 0.9960]])"
      ]
     },
     "execution_count": 9,
     "metadata": {},
     "output_type": "execute_result"
    }
   ],
   "source": [
    "x = torch.rand(5, 3) # 5x3의 행렬을 랜덤하게 배정하여 생성한다.\n",
    "x"
   ]
  },
  {
   "cell_type": "code",
   "execution_count": 11,
   "metadata": {},
   "outputs": [
    {
     "data": {
      "text/plain": [
       "tensor([[0, 0, 0],\n",
       "        [0, 0, 0],\n",
       "        [0, 0, 0],\n",
       "        [0, 0, 0],\n",
       "        [0, 0, 0]])"
      ]
     },
     "execution_count": 11,
     "metadata": {},
     "output_type": "execute_result"
    }
   ],
   "source": [
    "x = torch.zeros(5,3, dtype=torch.long) # 5 x 3의 0으로 생성한다.\n",
    "x"
   ]
  },
  {
   "cell_type": "code",
   "execution_count": 13,
   "metadata": {},
   "outputs": [
    {
     "data": {
      "text/plain": [
       "tensor([5.5000, 3.0000])"
      ]
     },
     "execution_count": 13,
     "metadata": {},
     "output_type": "execute_result"
    }
   ],
   "source": [
    "x = torch.tensor([5.5, 3])\n",
    "x"
   ]
  },
  {
   "cell_type": "markdown",
   "metadata": {},
   "source": [
    "Pytorch 에서는 N-차원의 배열(행렬)을 Tensor라고 부른다. Tensor와 Array의 차이점은 해당 데이터가 GPU 하나의 단위에서 실행될 수 있느냐 없느냐에 따라 다르다."
   ]
  },
  {
   "cell_type": "code",
   "execution_count": 20,
   "metadata": {},
   "outputs": [
    {
     "name": "stdout",
     "output_type": "stream",
     "text": [
      "tensor([[1., 1., 1.],\n",
      "        [1., 1., 1.],\n",
      "        [1., 1., 1.],\n",
      "        [1., 1., 1.],\n",
      "        [1., 1., 1.]], dtype=torch.float64)\n",
      "tensor([[-0.1792,  1.1052, -1.4251],\n",
      "        [-0.2115,  0.3526,  1.8895],\n",
      "        [-1.2711,  0.0564,  1.1278],\n",
      "        [ 1.2527, -0.2434, -0.9747],\n",
      "        [ 1.3429,  0.4614, -1.5843]], dtype=torch.float64)\n",
      "x.size torch.Size([5, 3])\n"
     ]
    }
   ],
   "source": [
    "x = x.new_ones(5,3, dtype=torch.double)\n",
    "print(x)\n",
    "\n",
    "x = torch.randn_like(x, dtype=torch.double) # x의 행렬 shape와 동일한 크기의 랜덤값을 가진 행렬을 생성한다.\n",
    "print(x)\n",
    "\n",
    "print(\"x.size\", x.size())"
   ]
  },
  {
   "cell_type": "markdown",
   "metadata": {},
   "source": [
    "##### Tensor 연산"
   ]
  },
  {
   "cell_type": "code",
   "execution_count": 22,
   "metadata": {},
   "outputs": [
    {
     "name": "stdout",
     "output_type": "stream",
     "text": [
      "x tensor([[-0.1792,  1.1052, -1.4251],\n",
      "        [-0.2115,  0.3526,  1.8895],\n",
      "        [-1.2711,  0.0564,  1.1278],\n",
      "        [ 1.2527, -0.2434, -0.9747],\n",
      "        [ 1.3429,  0.4614, -1.5843]], dtype=torch.float64)\n",
      "y tensor([[0.0672, 0.9051, 0.2012],\n",
      "        [0.3945, 0.3066, 0.9298],\n",
      "        [0.4652, 0.6668, 0.1014],\n",
      "        [0.8903, 0.7559, 0.8339],\n",
      "        [0.4621, 0.7117, 0.2776]])\n",
      "x+y tensor([[-0.1120,  2.0104, -1.2239],\n",
      "        [ 0.1830,  0.6592,  2.8194],\n",
      "        [-0.8059,  0.7232,  1.2292],\n",
      "        [ 2.1430,  0.5126, -0.1408],\n",
      "        [ 1.8050,  1.1731, -1.3067]], dtype=torch.float64)\n",
      "x+y tensor([[-0.1120,  2.0104, -1.2239],\n",
      "        [ 0.1830,  0.6592,  2.8194],\n",
      "        [-0.8059,  0.7232,  1.2292],\n",
      "        [ 2.1430,  0.5126, -0.1408],\n",
      "        [ 1.8050,  1.1731, -1.3067]], dtype=torch.float64)\n"
     ]
    }
   ],
   "source": [
    "y = torch.rand(5,3)\n",
    "\n",
    "print(\"x\", x)\n",
    "print(\"y\", y)\n",
    "print(\"x+y\", x+y)\n",
    "print(\"x+y\", torch.add(x,y))"
   ]
  },
  {
   "cell_type": "code",
   "execution_count": 24,
   "metadata": {},
   "outputs": [
    {
     "name": "stdout",
     "output_type": "stream",
     "text": [
      "tensor([[-0.1120,  2.0104, -1.2239],\n",
      "        [ 0.1830,  0.6592,  2.8194],\n",
      "        [-0.8059,  0.7232,  1.2292],\n",
      "        [ 2.1430,  0.5126, -0.1408],\n",
      "        [ 1.8050,  1.1731, -1.3067]])\n"
     ]
    }
   ],
   "source": [
    "result = torch.empty(5,3)\n",
    "\n",
    "# x+y의 결과값을 out에 지정된 빈 행렬에 저장한다.\n",
    "torch.add(x, y, out=result)\n",
    "print(result)"
   ]
  },
  {
   "cell_type": "code",
   "execution_count": 54,
   "metadata": {},
   "outputs": [
    {
     "data": {
      "text/plain": [
       "tensor([[ -3.5161,  23.0099, -28.3011],\n",
       "        [ -3.8354,   7.3580,  38.7208],\n",
       "        [-24.9574,   1.7940,  22.6572],\n",
       "        [ 25.9442,  -4.1111, -18.6608],\n",
       "        [ 27.3194,   9.9389, -31.4081]])"
      ]
     },
     "execution_count": 54,
     "metadata": {},
     "output_type": "execute_result"
    }
   ],
   "source": [
    "# x + y의 결과를 곧바로 y에 저장한다.\n",
    "y.add_(x)"
   ]
  },
  {
   "cell_type": "code",
   "execution_count": 63,
   "metadata": {},
   "outputs": [
    {
     "name": "stdout",
     "output_type": "stream",
     "text": [
      "x:  tensor([[-0.1792,  1.1052, -1.4251],\n",
      "        [-0.2115,  0.3526,  1.8895],\n",
      "        [-1.2711,  0.0564,  1.1278],\n",
      "        [ 1.2527, -0.2434, -0.9747],\n",
      "        [ 1.3429,  0.4614, -1.5843]], dtype=torch.float64)\n",
      "x[:, 1] tensor([ 1.1052,  0.3526,  0.0564, -0.2434,  0.4614], dtype=torch.float64)\n",
      "x.view(15) tensor([-0.1792,  1.1052, -1.4251, -0.2115,  0.3526,  1.8895, -1.2711,  0.0564,\n",
      "         1.1278,  1.2527, -0.2434, -0.9747,  1.3429,  0.4614, -1.5843],\n",
      "       dtype=torch.float64)\n"
     ]
    }
   ],
   "source": [
    "print(\"x: \", x)\n",
    "print(\"x[:, 1]\", x[:, 1]) # column에 포함되는 값만 가져오는 slicing 문법\n",
    "print(\"x.view(15)\", x.view(15)) # resize/reshape 연산"
   ]
  },
  {
   "cell_type": "code",
   "execution_count": 66,
   "metadata": {},
   "outputs": [
    {
     "name": "stdout",
     "output_type": "stream",
     "text": [
      "torch.Size([4, 4]) torch.Size([16]) torch.Size([2, 8])\n",
      "tensor([-1.7199])\n",
      "-1.719934105873108\n"
     ]
    }
   ],
   "source": [
    "x = torch.randn(4,4)\n",
    "y = x.view(16)\n",
    "z = x.view(-1, 8)\n",
    "print(x.size(), y.size(), z.size())\n",
    "\n",
    "# one element tensor to origin value.\n",
    "x = torch.randn(1)\n",
    "print(x)\n",
    "print(x.item())"
   ]
  }
 ],
 "metadata": {
  "kernelspec": {
   "display_name": "Python 3",
   "language": "python",
   "name": "python3"
  },
  "language_info": {
   "codemirror_mode": {
    "name": "ipython",
    "version": 3
   },
   "file_extension": ".py",
   "mimetype": "text/x-python",
   "name": "python",
   "nbconvert_exporter": "python",
   "pygments_lexer": "ipython3",
   "version": "3.7.6"
  }
 },
 "nbformat": 4,
 "nbformat_minor": 2
}
