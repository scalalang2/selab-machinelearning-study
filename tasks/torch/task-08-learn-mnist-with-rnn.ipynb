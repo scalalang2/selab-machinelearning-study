{
 "cells": [
  {
   "cell_type": "code",
   "execution_count": 1,
   "metadata": {},
   "outputs": [],
   "source": [
    "import torch\n",
    "import torch.nn as nn\n",
    "import torchvision\n",
    "import torchvision.transforms as transforms\n",
    "\n",
    "device = torch.device(\"cuda\" if torch.cuda.is_available() else \"cpu\")"
   ]
  },
  {
   "cell_type": "code",
   "execution_count": 13,
   "metadata": {},
   "outputs": [],
   "source": [
    "# 하이퍼 파라미터 정의\n",
    "SEQUENCE_LENGTH = 28\n",
    "INPUT_SIZE = 28\n",
    "HIDDEN_SIZE = 128\n",
    "NUM_LAYERS = 2\n",
    "NUM_CLASSES = 10\n",
    "BATCH_SIZE = 100\n",
    "NUM_EPOCHS = 1\n",
    "LR = 0.01"
   ]
  },
  {
   "cell_type": "code",
   "execution_count": 4,
   "metadata": {},
   "outputs": [
    {
     "name": "stdout",
     "output_type": "stream",
     "text": [
      "Downloading http://yann.lecun.com/exdb/mnist/train-images-idx3-ubyte.gz to ../.data/MNIST/raw/train-images-idx3-ubyte.gz\n"
     ]
    },
    {
     "data": {
      "application/vnd.jupyter.widget-view+json": {
       "model_id": "48b042a841cf4229ac5d42587e32e641",
       "version_major": 2,
       "version_minor": 0
      },
      "text/plain": [
       "HBox(children=(FloatProgress(value=1.0, bar_style='info', max=1.0), HTML(value='')))"
      ]
     },
     "metadata": {},
     "output_type": "display_data"
    },
    {
     "name": "stdout",
     "output_type": "stream",
     "text": [
      "Extracting ../.data/MNIST/raw/train-images-idx3-ubyte.gz to ../.data/MNIST/raw\n",
      "Downloading http://yann.lecun.com/exdb/mnist/train-labels-idx1-ubyte.gz to ../.data/MNIST/raw/train-labels-idx1-ubyte.gz\n"
     ]
    },
    {
     "data": {
      "application/vnd.jupyter.widget-view+json": {
       "model_id": "c053592d0a614d20b115b40ab2944604",
       "version_major": 2,
       "version_minor": 0
      },
      "text/plain": [
       "HBox(children=(FloatProgress(value=1.0, bar_style='info', max=1.0), HTML(value='')))"
      ]
     },
     "metadata": {},
     "output_type": "display_data"
    },
    {
     "name": "stdout",
     "output_type": "stream",
     "text": [
      "Extracting ../.data/MNIST/raw/train-labels-idx1-ubyte.gz to ../.data/MNIST/raw\n",
      "Downloading http://yann.lecun.com/exdb/mnist/t10k-images-idx3-ubyte.gz to ../.data/MNIST/raw/t10k-images-idx3-ubyte.gz\n"
     ]
    },
    {
     "data": {
      "application/vnd.jupyter.widget-view+json": {
       "model_id": "8c3d1feb16bd48f69fa0f52481563f2c",
       "version_major": 2,
       "version_minor": 0
      },
      "text/plain": [
       "HBox(children=(FloatProgress(value=1.0, bar_style='info', max=1.0), HTML(value='')))"
      ]
     },
     "metadata": {},
     "output_type": "display_data"
    },
    {
     "name": "stdout",
     "output_type": "stream",
     "text": [
      "Extracting ../.data/MNIST/raw/t10k-images-idx3-ubyte.gz to ../.data/MNIST/raw\n",
      "Downloading http://yann.lecun.com/exdb/mnist/t10k-labels-idx1-ubyte.gz to ../.data/MNIST/raw/t10k-labels-idx1-ubyte.gz\n"
     ]
    },
    {
     "data": {
      "application/vnd.jupyter.widget-view+json": {
       "model_id": "99f86a51481a4819b82dc974bd47bff1",
       "version_major": 2,
       "version_minor": 0
      },
      "text/plain": [
       "HBox(children=(FloatProgress(value=1.0, bar_style='info', max=1.0), HTML(value='')))"
      ]
     },
     "metadata": {},
     "output_type": "display_data"
    },
    {
     "name": "stdout",
     "output_type": "stream",
     "text": [
      "Extracting ../.data/MNIST/raw/t10k-labels-idx1-ubyte.gz to ../.data/MNIST/raw\n",
      "Processing...\n",
      "Done!\n"
     ]
    }
   ],
   "source": [
    "train_dataset = torchvision.datasets.MNIST(root='../.data/',\n",
    "                                           train=True,\n",
    "                                           transform=transforms.ToTensor(),\n",
    "                                           download=True)\n",
    "test_dataset = torchvision.datasets.MNIST(root='../.data/',\n",
    "                                           train=False,\n",
    "                                           transform=transforms.ToTensor(),\n",
    "                                           download=True)\n",
    "\n",
    "train_loader = torch.utils.data.DataLoader(dataset=train_dataset,\n",
    "                                          batch_size=BATCH_SIZE,\n",
    "                                          shuffle=True)\n",
    "\n",
    "test_loader = torch.utils.data.DataLoader(dataset=test_dataset,\n",
    "                                          batch_size=BATCH_SIZE,\n",
    "                                          shuffle=False)"
   ]
  },
  {
   "cell_type": "code",
   "execution_count": 19,
   "metadata": {},
   "outputs": [],
   "source": [
    "class RNN(nn.Module):\n",
    "    def __init__(self, input_size, hidden_size, num_layers, num_classes):\n",
    "        super(RNN, self).__init__()\n",
    "        self.hidden_size = hidden_size\n",
    "        self.num_layers = num_layers\n",
    "        self.lstm = nn.LSTM(input_size, hidden_size, num_layers, batch_first=True)\n",
    "        self.fc = nn.Linear(hidden_size, num_classes)\n",
    "        \n",
    "    def forward(self, x, step):\n",
    "        if step == 0:\n",
    "            print(\"x.shape [{}]\".format(x.shape))\n",
    "            print(\"x.size(0) [{}]\".format(x.size(0)))\n",
    "            \n",
    "        h0 = torch.zeros(self.num_layers, x.size(0), self.hidden_size).to(device)\n",
    "        c0 = torch.zeros(self.num_layers, x.size(0), self.hidden_size).to(device)\n",
    "        \n",
    "        out, _ = self.lstm(x, (h0, c0))\n",
    "        if step == 0:\n",
    "            print(\"h0.shape | LSTM [{}]\".format(h0.shape))\n",
    "            print(\"c0.shape | LSTM [{}]\".format(c0.shape))\n",
    "            print(\"out.shape | LSTM [{}]\".format(out.shape))\n",
    "            print(\"out[:, -1, :] | LSTM [{}]\".format(out[:, -1, :].shape))\n",
    "            \n",
    "        out = self.fc(out[:, -1, :])\n",
    "        if step == 0:\n",
    "            print(\"out.shape | FC [{}]\".format(out.shape))\n",
    "            \n",
    "        return out"
   ]
  },
  {
   "cell_type": "code",
   "execution_count": 25,
   "metadata": {},
   "outputs": [
    {
     "name": "stdout",
     "output_type": "stream",
     "text": [
      "RNN(\n",
      "  (lstm): LSTM(28, 128, num_layers=2, batch_first=True)\n",
      "  (fc): Linear(in_features=128, out_features=10, bias=True)\n",
      ")\n",
      "x.shape [torch.Size([100, 28, 28])]\n",
      "x.size(0) [100]\n",
      "h0.shape | LSTM [torch.Size([2, 100, 128])]\n",
      "c0.shape | LSTM [torch.Size([2, 100, 128])]\n",
      "out.shape | LSTM [torch.Size([100, 28, 128])]\n",
      "out[:, -1, :] | LSTM [torch.Size([100, 128])]\n",
      "out.shape | FC [torch.Size([100, 10])]\n",
      "input data shape [torch.Size([100, 28, 28])]\n",
      "label data shape [torch.Size([100])]\n",
      "output data shape [torch.Size([100, 10])]\n",
      "Epoch [1/1], Step [100/600], Loss: 0.5629\n",
      "Epoch [1/1], Step [200/600], Loss: 0.1366\n",
      "Epoch [1/1], Step [300/600], Loss: 0.2646\n",
      "Epoch [1/1], Step [400/600], Loss: 0.1495\n",
      "Epoch [1/1], Step [500/600], Loss: 0.1181\n",
      "Epoch [1/1], Step [600/600], Loss: 0.0189\n",
      "x.shape [torch.Size([100, 28, 28])]\n",
      "x.size(0) [100]\n",
      "h0.shape | LSTM [torch.Size([2, 100, 128])]\n",
      "c0.shape | LSTM [torch.Size([2, 100, 128])]\n",
      "out.shape | LSTM [torch.Size([100, 28, 128])]\n",
      "out[:, -1, :] | LSTM [torch.Size([100, 128])]\n",
      "out.shape | FC [torch.Size([100, 10])]\n",
      "predicted.shape [torch.Size([100])]\n",
      "labels.shape [torch.Size([100])]\n",
      "Test Accuracy of the model on the 10000 test images: 96.26 %\n"
     ]
    }
   ],
   "source": [
    "model = RNN(INPUT_SIZE, HIDDEN_SIZE, NUM_LAYERS, NUM_CLASSES)\n",
    "print(model)\n",
    "\n",
    "criterion = nn.CrossEntropyLoss()\n",
    "optimizer = torch.optim.Adam(model.parameters(), lr=LR)\n",
    "\n",
    "total_step = len(train_loader)\n",
    "for epoch in range(NUM_EPOCHS):\n",
    "    for i, (images, labels) in enumerate(train_loader):\n",
    "        images = images.reshape(-1, SEQUENCE_LENGTH, INPUT_SIZE).to(device)\n",
    "        labels = labels.to(device)\n",
    "        \n",
    "        outputs = model(images, i)\n",
    "        loss = criterion(outputs, labels)\n",
    "        \n",
    "        optimizer.zero_grad()\n",
    "        loss.backward()\n",
    "        optimizer.step()\n",
    "        \n",
    "        if i == 0:\n",
    "            print(\"input data shape [{}]\".format(images.shape))\n",
    "            print(\"label data shape [{}]\".format(labels.shape))\n",
    "            print(\"output data shape [{}]\".format(outputs.shape))\n",
    "        \n",
    "        if (i+1) % 100 == 0:\n",
    "            print ('Epoch [{}/{}], Step [{}/{}], Loss: {:.4f}' \n",
    "                   .format(epoch+1, NUM_EPOCHS, i+1, total_step, loss.item()))\n",
    "            \n",
    "with torch.no_grad():\n",
    "    correct = 0\n",
    "    total = 0\n",
    "    for i, (images, labels) in enumerate(test_loader):\n",
    "        images = images.reshape(-1, SEQUENCE_LENGTH, INPUT_SIZE).to(device)\n",
    "        labels = labels.to(device)\n",
    "        outputs = model(images, i)\n",
    "        \n",
    "        _, predicted = torch.max(outputs.data, 1)\n",
    "        \n",
    "        if i == 0:\n",
    "            print(\"predicted.shape [{}]\".format(predicted.shape))\n",
    "            print(\"labels.shape [{}]\".format(labels.shape))\n",
    "            \n",
    "        total += labels.size(0)\n",
    "        correct += (predicted == labels).sum().item()\n",
    "    \n",
    "    print('Test Accuracy of the model on the 10000 test images: {} %'.format(100 * correct / total))        "
   ]
  }
 ],
 "metadata": {
  "kernelspec": {
   "display_name": "Python 3",
   "language": "python",
   "name": "python3"
  },
  "language_info": {
   "codemirror_mode": {
    "name": "ipython",
    "version": 3
   },
   "file_extension": ".py",
   "mimetype": "text/x-python",
   "name": "python",
   "nbconvert_exporter": "python",
   "pygments_lexer": "ipython3",
   "version": "3.7.6"
  }
 },
 "nbformat": 4,
 "nbformat_minor": 2
}
