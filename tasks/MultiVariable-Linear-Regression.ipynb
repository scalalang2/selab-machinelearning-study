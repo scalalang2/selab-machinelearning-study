{
 "cells": [
  {
   "cell_type": "code",
   "execution_count": 2,
   "metadata": {},
   "outputs": [],
   "source": [
    "import numpy as np\n",
    "import matplotlib.pyplot as plt"
   ]
  },
  {
   "cell_type": "code",
   "execution_count": 33,
   "metadata": {},
   "outputs": [
    {
     "data": {
      "text/plain": [
       "<matplotlib.collections.PathCollection at 0x118af14d0>"
      ]
     },
     "execution_count": 33,
     "metadata": {},
     "output_type": "execute_result"
    },
    {
     "data": {
      "image/png": "[encoded data removed]",
      "text/plain": [
       "<Figure size 432x288 with 1 Axes>"
      ]
     },
     "metadata": {
      "needs_background": "light"
     },
     "output_type": "display_data"
    }
   ],
   "source": [
    "X = np.linspace(0, 3, 100)\n",
    "Y = X * (np.random.randn(100) + 3)\n",
    "\n",
    "plt.scatter(X, Y)"
   ]
  },
  {
   "cell_type": "code",
   "execution_count": 39,
   "metadata": {},
   "outputs": [
    {
     "data": {
      "text/plain": [
       "[<matplotlib.lines.Line2D at 0x118dcaad0>]"
      ]
     },
     "execution_count": 39,
     "metadata": {},
     "output_type": "execute_result"
    },
    {
     "data": {
      "image/png": "[encoded data removed]",
      "text/plain": [
       "<Figure size 432x288 with 1 Axes>"
      ]
     },
     "metadata": {
      "needs_background": "light"
     },
     "output_type": "display_data"
    }
   ],
   "source": [
    "w = np.random.rand()\n",
    "b = np.random.rand()\n",
    "\n",
    "hypothesis = w * X + b\n",
    "\n",
    "plt.scatter(X, Y)\n",
    "plt.plot(X, hypothesis, color='red')"
   ]
  },
  {
   "cell_type": "code",
   "execution_count": 40,
   "metadata": {},
   "outputs": [
    {
     "name": "stdout",
     "output_type": "stream",
     "text": [
      "cost: 16.690576274319007, w: 650.2994636873609, b: 322.9777389270633\n",
      "cost: 1.4779910606507043e+259, w: 6.6089316042186454e+131, b: 3.522177881998899e+131\n",
      "cost: inf, w: 6.845099319674592e+260, b: 3.648041600015011e+260\n",
      "cost: nan, w: nan, b: nan\n",
      "cost: nan, w: nan, b: nan\n",
      "cost: nan, w: nan, b: nan\n",
      "cost: nan, w: nan, b: nan\n",
      "cost: nan, w: nan, b: nan\n",
      "cost: nan, w: nan, b: nan\n",
      "cost: nan, w: nan, b: nan\n",
      "cost: nan, w: nan, b: nan\n",
      "cost: nan, w: nan, b: nan\n",
      "cost: nan, w: nan, b: nan\n",
      "cost: nan, w: nan, b: nan\n",
      "cost: nan, w: nan, b: nan\n",
      "cost: nan, w: nan, b: nan\n",
      "cost: nan, w: nan, b: nan\n",
      "cost: nan, w: nan, b: nan\n",
      "cost: nan, w: nan, b: nan\n",
      "cost: nan, w: nan, b: nan\n",
      "cost: nan, w: nan, b: nan\n",
      "cost: nan, w: nan, b: nan\n",
      "cost: nan, w: nan, b: nan\n",
      "cost: nan, w: nan, b: nan\n",
      "cost: nan, w: nan, b: nan\n",
      "cost: nan, w: nan, b: nan\n",
      "cost: nan, w: nan, b: nan\n",
      "cost: nan, w: nan, b: nan\n",
      "cost: nan, w: nan, b: nan\n",
      "cost: nan, w: nan, b: nan\n",
      "cost: nan, w: nan, b: nan\n",
      "cost: nan, w: nan, b: nan\n",
      "cost: nan, w: nan, b: nan\n",
      "cost: nan, w: nan, b: nan\n",
      "cost: nan, w: nan, b: nan\n",
      "cost: nan, w: nan, b: nan\n",
      "cost: nan, w: nan, b: nan\n",
      "cost: nan, w: nan, b: nan\n",
      "cost: nan, w: nan, b: nan\n",
      "cost: nan, w: nan, b: nan\n",
      "cost: nan, w: nan, b: nan\n",
      "cost: nan, w: nan, b: nan\n",
      "cost: nan, w: nan, b: nan\n",
      "cost: nan, w: nan, b: nan\n",
      "cost: nan, w: nan, b: nan\n",
      "cost: nan, w: nan, b: nan\n",
      "cost: nan, w: nan, b: nan\n",
      "cost: nan, w: nan, b: nan\n",
      "cost: nan, w: nan, b: nan\n",
      "cost: nan, w: nan, b: nan\n",
      "cost: nan, w: nan, b: nan\n",
      "cost: nan, w: nan, b: nan\n",
      "cost: nan, w: nan, b: nan\n",
      "cost: nan, w: nan, b: nan\n",
      "cost: nan, w: nan, b: nan\n",
      "cost: nan, w: nan, b: nan\n",
      "cost: nan, w: nan, b: nan\n",
      "cost: nan, w: nan, b: nan\n",
      "cost: nan, w: nan, b: nan\n",
      "cost: nan, w: nan, b: nan\n"
     ]
    },
    {
     "name": "stderr",
     "output_type": "stream",
     "text": [
      "/Library/Frameworks/Python.framework/Versions/3.7/lib/python3.7/site-packages/ipykernel_launcher.py:3: RuntimeWarning: overflow encountered in square\n",
      "  This is separate from the ipykernel package so we can avoid doing imports until\n",
      "/Library/Frameworks/Python.framework/Versions/3.7/lib/python3.7/site-packages/ipykernel_launcher.py:5: RuntimeWarning: overflow encountered in multiply\n",
      "  \"\"\"\n",
      "/Library/Frameworks/Python.framework/Versions/3.7/lib/python3.7/site-packages/numpy/core/fromnumeric.py:90: RuntimeWarning: overflow encountered in reduce\n",
      "  return ufunc.reduce(obj, axis, dtype, out, **passkwargs)\n",
      "/Library/Frameworks/Python.framework/Versions/3.7/lib/python3.7/site-packages/ipykernel_launcher.py:2: RuntimeWarning: invalid value encountered in multiply\n",
      "  \n",
      "/Library/Frameworks/Python.framework/Versions/3.7/lib/python3.7/site-packages/ipykernel_launcher.py:5: RuntimeWarning: invalid value encountered in multiply\n",
      "  \"\"\"\n",
      "/Library/Frameworks/Python.framework/Versions/3.7/lib/python3.7/site-packages/ipykernel_launcher.py:6: RuntimeWarning: invalid value encountered in multiply\n",
      "  \n"
     ]
    }
   ],
   "source": [
    "for step in range(3000):\n",
    "    hypothesis = w * X + b\n",
    "    cost = np.average(np.square(hypothesis - Y))\n",
    "\n",
    "    dw = np.sum((w * X + b - Y) * X)\n",
    "    db = np.sum((w * X + b - Y))\n",
    "    alpha = 0.001\n",
    "    \n",
    "    w = w - alpha * dw\n",
    "    b = b - alpha * db\n",
    "    \n",
    "    if step % 50 == 0:\n",
    "        print(\"cost: %s, w: %s, b: %s\" % (cost, w, b))"
   ]
  },
  {
   "cell_type": "code",
   "execution_count": 36,
   "metadata": {},
   "outputs": [
    {
     "data": {
      "text/plain": [
       "[<matplotlib.lines.Line2D at 0x118c0af90>]"
      ]
     },
     "execution_count": 36,
     "metadata": {},
     "output_type": "execute_result"
    },
    {
     "data": {
      "image/png": "[encoded data removed]",
      "text/plain": [
       "<Figure size 432x288 with 1 Axes>"
      ]
     },
     "metadata": {
      "needs_background": "light"
     },
     "output_type": "display_data"
    }
   ],
   "source": [
    "plt.scatter(X, Y)\n",
    "plt.plot(X, hypothesis, color='red')"
   ]
  }
 ],
 "metadata": {
  "kernelspec": {
   "display_name": "Python 3",
   "language": "python",
   "name": "python3"
  },
  "language_info": {
   "codemirror_mode": {
    "name": "ipython",
    "version": 3
   },
   "file_extension": ".py",
   "mimetype": "text/x-python",
   "name": "python",
   "nbconvert_exporter": "python",
   "pygments_lexer": "ipython3",
   "version": "3.7.6"
  }
 },
 "nbformat": 4,
 "nbformat_minor": 2
}
