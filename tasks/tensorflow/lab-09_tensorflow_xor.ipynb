{
 "cells": [
  {
   "cell_type": "code",
   "execution_count": 4,
   "metadata": {},
   "outputs": [],
   "source": [
    "import tensorflow.compat.v1 as tf\n",
    "import numpy as np\n",
    "tf.disable_v2_behavior()"
   ]
  },
  {
   "cell_type": "code",
   "execution_count": 5,
   "metadata": {},
   "outputs": [],
   "source": [
    "x_data = np.array([[0,0], [0,1], [1,0], [1,1]], dtype=np.float32)\n",
    "y_data = np.array([[0], [1], [1], [0]], dtype=np.float32)"
   ]
  },
  {
   "cell_type": "code",
   "execution_count": 30,
   "metadata": {},
   "outputs": [],
   "source": [
    "X = tf.placeholder(tf.float32)\n",
    "Y = tf.placeholder(tf.float32)\n",
    "\n",
    "W1 = tf.Variable(tf.random_normal([2,2]), name='weight')\n",
    "B1 = tf.Variable(tf.random_normal([2]), name='bias')\n",
    "L1 = tf.sigmoid(tf.matmul(X, W1) + B1)\n",
    "\n",
    "W2 = tf.Variable(tf.random_normal([2,1]), name='weight2')\n",
    "B2 = tf.Variable(tf.random_normal([1]), name='bias2')"
   ]
  },
  {
   "cell_type": "code",
   "execution_count": 31,
   "metadata": {},
   "outputs": [],
   "source": [
    "hypothesis = tf.sigmoid(tf.matmul(L1, W2) + B2)"
   ]
  },
  {
   "cell_type": "code",
   "execution_count": 33,
   "metadata": {},
   "outputs": [
    {
     "name": "stdout",
     "output_type": "stream",
     "text": [
      "0 0.72042876 W: [[ 0.95749754  0.4839208 ]\n",
      " [-0.9707914  -1.685243  ]] b: [-0.38473505 -0.6898241 ]\n",
      "1000 0.66601694 W: [[ 1.3760066  0.7518083]\n",
      " [-1.8154819 -1.7729053]] b: [-1.2543896 -0.8146612]\n",
      "2000 0.58055305 W: [[ 2.9056087   0.96591467]\n",
      " [-3.3489275  -1.9045397 ]] b: [-2.257693  -1.1046497]\n",
      "3000 0.48385984 W: [[ 4.177442   1.2543254]\n",
      " [-4.6534066 -1.7557414]] b: [-3.0331373  -0.38562998]\n",
      "4000 0.16738887 W: [[ 5.214133   3.6078813]\n",
      " [-5.417054  -3.2324831]] b: [-3.2386549  1.3787391]\n",
      "5000 0.07005735 W: [[ 5.719556   4.6557283]\n",
      " [-5.8164477 -4.314082 ]] b: [-3.3069656  2.0233843]\n",
      "6000 0.042317875 W: [[ 5.9829583  5.157022 ]\n",
      " [-6.0621467 -4.825797 ]] b: [-3.3681984  2.3204074]\n",
      "7000 0.0299545 W: [[ 6.1549325  5.467766 ]\n",
      " [-6.2343082 -5.1421685]] b: [-3.418708  2.499386]\n",
      "8000 0.023064377 W: [[ 6.2812576  5.687732 ]\n",
      " [-6.3650966 -5.366039 ]] b: [-3.4604     2.6236026]\n",
      "9000 0.018701067 W: [[ 6.380552   5.8558455]\n",
      " [-6.46979   -5.537148 ]] b: [-3.4955137  2.717167 ]\n",
      "10000 0.01570086 W: [[ 6.4620757  5.9908366]\n",
      " [-6.556674  -5.674554 ]] b: [-3.5256877  2.7914643]\n",
      "h: [[0.01511978]\n",
      " [0.9788695 ]\n",
      " [0.98681563]\n",
      " [0.01285585]] c: [[0.]\n",
      " [1.]\n",
      " [1.]\n",
      " [0.]] a: 1.0\n"
     ]
    }
   ],
   "source": [
    "cost = -tf.reduce_mean(Y * tf.log(hypothesis) + (1 - Y) * tf.log(1 - hypothesis))\n",
    "train = tf.train.GradientDescentOptimizer(learning_rate=0.1).minimize(cost)\n",
    "\n",
    "# Accuracy\n",
    "# H가 0.5 이상이면 true else false\n",
    "predicted = tf.cast(hypothesis > 0.5, dtype=tf.float32)\n",
    "accuracy = tf.reduce_mean(tf.cast(tf.equal(predicted, Y), dtype=tf.float32))\n",
    "\n",
    "with tf.Session() as sess:\n",
    "    sess.run(tf.global_variables_initializer())\n",
    "    \n",
    "    for step in range(10001):\n",
    "        sess.run(train, feed_dict={X: x_data, Y: y_data})\n",
    "        if step % 1000 == 0:\n",
    "            print(step, sess.run(cost, feed_dict={X: x_data, Y: y_data}), \"W1:\",sess.run(W1), \"B1:\", sess.run(B1))\n",
    "            \n",
    "    h, c, a = sess.run([hypothesis, predicted, accuracy], feed_dict={X: x_data, Y: y_data})\n",
    "    print(\"h:\", h, \"c:\", c, \"a:\", a)"
   ]
  }
 ],
 "metadata": {
  "kernelspec": {
   "display_name": "Python 3",
   "language": "python",
   "name": "python3"
  },
  "language_info": {
   "codemirror_mode": {
    "name": "ipython",
    "version": 3
   },
   "file_extension": ".py",
   "mimetype": "text/x-python",
   "name": "python",
   "nbconvert_exporter": "python",
   "pygments_lexer": "ipython3",
   "version": "3.7.6"
  }
 },
 "nbformat": 4,
 "nbformat_minor": 2
}
